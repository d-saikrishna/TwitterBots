{
 "cells": [
  {
   "cell_type": "code",
   "execution_count": 1,
   "id": "61e181d4",
   "metadata": {},
   "outputs": [],
   "source": [
    "from selenium import webdriver\n",
    "from selenium.webdriver.common.by import By\n",
    "from selenium.webdriver.support.ui import WebDriverWait\n",
    "from selenium.webdriver.support import expected_conditions as EC\n",
    "\n",
    "from requests_oauthlib import OAuth1\n",
    "import requests\n",
    "import time"
   ]
  },
  {
   "cell_type": "code",
   "execution_count": 2,
   "id": "15305b5a",
   "metadata": {},
   "outputs": [],
   "source": [
    "\n",
    "oauth = OAuth1(\n",
    "        consumer_key,\n",
    "        client_secret=consumer_secret,\n",
    "        resource_owner_key=access_token,\n",
    "        resource_owner_secret=access_token_secret\n",
    "        )\n"
   ]
  },
  {
   "cell_type": "code",
   "execution_count": 3,
   "id": "3be2aa1b",
   "metadata": {},
   "outputs": [],
   "source": [
    "username = 'chaotic__neuron'\n",
    "url = 'https://twitter.com/search?q=from%3A{}&src=typed_query&f=live'.format(username)"
   ]
  },
  {
   "cell_type": "code",
   "execution_count": 16,
   "id": "f4a57be6",
   "metadata": {},
   "outputs": [],
   "source": [
    "driver = webdriver.Chrome()"
   ]
  },
  {
   "cell_type": "code",
   "execution_count": 17,
   "id": "0aeb44f2",
   "metadata": {},
   "outputs": [],
   "source": [
    "driver.get(url)\n",
    "#login"
   ]
  },
  {
   "cell_type": "code",
   "execution_count": 21,
   "id": "89166b71",
   "metadata": {},
   "outputs": [],
   "source": [
    "driver.refresh()"
   ]
  },
  {
   "cell_type": "code",
   "execution_count": 66,
   "id": "e9449bc2",
   "metadata": {},
   "outputs": [],
   "source": [
    "morebutton = WebDriverWait(driver, 2).until(EC.presence_of_element_located((By.XPATH, \n",
    "                                    '//*[@id=\"react-root\"]/div/div/div[2]/main/div/div/div/div/div/div[3]/section/div/div/div[1]/div/div/article/div/div/div[2]/div[2]/div[1]/div/div[2]/div/div/div/div/div'\n",
    "                                    '//*[@id=\"react-root\"]/div/div/div[2]/main/div/div/div/div/div/div[3]/section/div/div/div[{}]/div/div/article/div/div/div[2]/div[2]/div[1]/div/div[2]/div/div/div/div/div'\n",
    "                                                                           )))"
   ]
  },
  {
   "cell_type": "code",
   "execution_count": 67,
   "id": "d787442e",
   "metadata": {},
   "outputs": [],
   "source": [
    "morebutton.click()"
   ]
  },
  {
   "cell_type": "code",
   "execution_count": 68,
   "id": "be9ac613",
   "metadata": {},
   "outputs": [],
   "source": [
    "delete = WebDriverWait(driver, 2).until(EC.presence_of_element_located((By.XPATH, \n",
    "                                    '//*[@id=\"layers\"]/div[2]/div/div/div/div[2]/div/div[3]/div/div/div/div[1]/div[2]/div'\n",
    "                                    )))"
   ]
  },
  {
   "cell_type": "code",
   "execution_count": 69,
   "id": "2d72ba86",
   "metadata": {},
   "outputs": [],
   "source": [
    "delete.click()"
   ]
  },
  {
   "cell_type": "code",
   "execution_count": 70,
   "id": "26bf2cbf",
   "metadata": {},
   "outputs": [],
   "source": [
    "delete2 = WebDriverWait(driver, 2).until(EC.presence_of_element_located((By.XPATH, \n",
    "                                    '//*[@id=\"layers\"]/div[2]/div/div/div/div/div/div[2]/div[2]/div[2]/div[1]'\n",
    "                                    )))"
   ]
  },
  {
   "cell_type": "code",
   "execution_count": 71,
   "id": "951f4e14",
   "metadata": {},
   "outputs": [],
   "source": [
    "delete2.click()"
   ]
  },
  {
   "cell_type": "code",
   "execution_count": 22,
   "id": "aa1c53a3",
   "metadata": {},
   "outputs": [
    {
     "name": "stdout",
     "output_type": "stream",
     "text": [
      "1\n"
     ]
    },
    {
     "ename": "TimeoutException",
     "evalue": "Message: \nStacktrace:\n#0 0x5de3b8aedfe3 <unknown>\n#1 0x5de3b882cd36 <unknown>\n#2 0x5de3b8869c4d <unknown>\n#3 0x5de3b8869d61 <unknown>\n#4 0x5de3b88a56a4 <unknown>\n#5 0x5de3b888a8ed <unknown>\n#6 0x5de3b88a3232 <unknown>\n#7 0x5de3b888a693 <unknown>\n#8 0x5de3b885d03a <unknown>\n#9 0x5de3b885e17e <unknown>\n#10 0x5de3b8aafdbd <unknown>\n#11 0x5de3b8ab3c6c <unknown>\n#12 0x5de3b8abd4b0 <unknown>\n#13 0x5de3b8ab4d63 <unknown>\n#14 0x5de3b8a87c35 <unknown>\n#15 0x5de3b8ad8138 <unknown>\n#16 0x5de3b8ad82c7 <unknown>\n#17 0x5de3b8ae6093 <unknown>\n#18 0x789a07894ac3 <unknown>\n",
     "output_type": "error",
     "traceback": [
      "\u001b[0;31m---------------------------------------------------------------------------\u001b[0m",
      "\u001b[0;31mTimeoutException\u001b[0m                          Traceback (most recent call last)",
      "\u001b[0;32m/tmp/ipykernel_5574/2125524630.py\u001b[0m in \u001b[0;36m<module>\u001b[0;34m\u001b[0m\n\u001b[1;32m     16\u001b[0m     \u001b[0;32mtry\u001b[0m\u001b[0;34m:\u001b[0m\u001b[0;34m\u001b[0m\u001b[0;34m\u001b[0m\u001b[0m\n\u001b[0;32m---> 17\u001b[0;31m         morebutton = WebDriverWait(driver, 2).until(EC.presence_of_element_located((By.XPATH, \n\u001b[0m\u001b[1;32m     18\u001b[0m                                     \u001b[0;34m'//*[@id=\"react-root\"]/div/div/div[2]/main/div/div/div/div/div/div[3]/div/div/section/div/div/div[3]/div/div/article/div/div/div[2]/div[2]/div[1]/div/div[2]/div/div/div/div/div'\u001b[0m\u001b[0;34m\u001b[0m\u001b[0;34m\u001b[0m\u001b[0m\n",
      "\u001b[0;32m~/anaconda3/lib/python3.9/site-packages/selenium/webdriver/support/wait.py\u001b[0m in \u001b[0;36muntil\u001b[0;34m(self, method, message)\u001b[0m\n\u001b[1;32m     94\u001b[0m                 \u001b[0;32mbreak\u001b[0m\u001b[0;34m\u001b[0m\u001b[0;34m\u001b[0m\u001b[0m\n\u001b[0;32m---> 95\u001b[0;31m         \u001b[0;32mraise\u001b[0m \u001b[0mTimeoutException\u001b[0m\u001b[0;34m(\u001b[0m\u001b[0mmessage\u001b[0m\u001b[0;34m,\u001b[0m \u001b[0mscreen\u001b[0m\u001b[0;34m,\u001b[0m \u001b[0mstacktrace\u001b[0m\u001b[0;34m)\u001b[0m\u001b[0;34m\u001b[0m\u001b[0;34m\u001b[0m\u001b[0m\n\u001b[0m\u001b[1;32m     96\u001b[0m \u001b[0;34m\u001b[0m\u001b[0m\n",
      "\u001b[0;31mTimeoutException\u001b[0m: Message: \nStacktrace:\n#0 0x5de3b8aedfe3 <unknown>\n#1 0x5de3b882cd36 <unknown>\n#2 0x5de3b8869c4d <unknown>\n#3 0x5de3b8869d61 <unknown>\n#4 0x5de3b88a56a4 <unknown>\n#5 0x5de3b888a8ed <unknown>\n#6 0x5de3b88a3232 <unknown>\n#7 0x5de3b888a693 <unknown>\n#8 0x5de3b885d03a <unknown>\n#9 0x5de3b885e17e <unknown>\n#10 0x5de3b8aafdbd <unknown>\n#11 0x5de3b8ab3c6c <unknown>\n#12 0x5de3b8abd4b0 <unknown>\n#13 0x5de3b8ab4d63 <unknown>\n#14 0x5de3b8a87c35 <unknown>\n#15 0x5de3b8ad8138 <unknown>\n#16 0x5de3b8ad82c7 <unknown>\n#17 0x5de3b8ae6093 <unknown>\n#18 0x789a07894ac3 <unknown>\n",
      "\nDuring handling of the above exception, another exception occurred:\n",
      "\u001b[0;31mTimeoutException\u001b[0m                          Traceback (most recent call last)",
      "\u001b[0;32m/tmp/ipykernel_5574/2125524630.py\u001b[0m in \u001b[0;36m<module>\u001b[0;34m\u001b[0m\n\u001b[1;32m     19\u001b[0m                                     )))\n\u001b[1;32m     20\u001b[0m     \u001b[0;32mexcept\u001b[0m\u001b[0;34m:\u001b[0m\u001b[0;34m\u001b[0m\u001b[0;34m\u001b[0m\u001b[0m\n\u001b[0;32m---> 21\u001b[0;31m         morebutton = WebDriverWait(driver, 2).until(EC.presence_of_element_located((By.XPATH, \n\u001b[0m\u001b[1;32m     22\u001b[0m                                     \u001b[0;34m'//*[@id=\"react-root\"]/div/div/div[2]/main/div/div/div/div[1]/div/div[3]/div/div/section/div/div/div[4]/div/div/article/div/div/div[2]/div[2]/div[1]/div/div[2]/div/div/div/div/div'\u001b[0m\u001b[0;34m\u001b[0m\u001b[0;34m\u001b[0m\u001b[0m\n\u001b[1;32m     23\u001b[0m                                     )))\n",
      "\u001b[0;32m~/anaconda3/lib/python3.9/site-packages/selenium/webdriver/support/wait.py\u001b[0m in \u001b[0;36muntil\u001b[0;34m(self, method, message)\u001b[0m\n\u001b[1;32m     93\u001b[0m             \u001b[0;32mif\u001b[0m \u001b[0mtime\u001b[0m\u001b[0;34m.\u001b[0m\u001b[0mmonotonic\u001b[0m\u001b[0;34m(\u001b[0m\u001b[0;34m)\u001b[0m \u001b[0;34m>\u001b[0m \u001b[0mend_time\u001b[0m\u001b[0;34m:\u001b[0m\u001b[0;34m\u001b[0m\u001b[0;34m\u001b[0m\u001b[0m\n\u001b[1;32m     94\u001b[0m                 \u001b[0;32mbreak\u001b[0m\u001b[0;34m\u001b[0m\u001b[0;34m\u001b[0m\u001b[0m\n\u001b[0;32m---> 95\u001b[0;31m         \u001b[0;32mraise\u001b[0m \u001b[0mTimeoutException\u001b[0m\u001b[0;34m(\u001b[0m\u001b[0mmessage\u001b[0m\u001b[0;34m,\u001b[0m \u001b[0mscreen\u001b[0m\u001b[0;34m,\u001b[0m \u001b[0mstacktrace\u001b[0m\u001b[0;34m)\u001b[0m\u001b[0;34m\u001b[0m\u001b[0;34m\u001b[0m\u001b[0m\n\u001b[0m\u001b[1;32m     96\u001b[0m \u001b[0;34m\u001b[0m\u001b[0m\n\u001b[1;32m     97\u001b[0m     \u001b[0;32mdef\u001b[0m \u001b[0muntil_not\u001b[0m\u001b[0;34m(\u001b[0m\u001b[0mself\u001b[0m\u001b[0;34m,\u001b[0m \u001b[0mmethod\u001b[0m\u001b[0;34m,\u001b[0m \u001b[0mmessage\u001b[0m\u001b[0;34m:\u001b[0m \u001b[0mstr\u001b[0m \u001b[0;34m=\u001b[0m \u001b[0;34m\"\"\u001b[0m\u001b[0;34m)\u001b[0m\u001b[0;34m:\u001b[0m\u001b[0;34m\u001b[0m\u001b[0;34m\u001b[0m\u001b[0m\n",
      "\u001b[0;31mTimeoutException\u001b[0m: Message: \nStacktrace:\n#0 0x5de3b8aedfe3 <unknown>\n#1 0x5de3b882cd36 <unknown>\n#2 0x5de3b8869c4d <unknown>\n#3 0x5de3b8869d61 <unknown>\n#4 0x5de3b88a56a4 <unknown>\n#5 0x5de3b888a8ed <unknown>\n#6 0x5de3b88a3232 <unknown>\n#7 0x5de3b888a693 <unknown>\n#8 0x5de3b885d03a <unknown>\n#9 0x5de3b885e17e <unknown>\n#10 0x5de3b8aafdbd <unknown>\n#11 0x5de3b8ab3c6c <unknown>\n#12 0x5de3b8abd4b0 <unknown>\n#13 0x5de3b8ab4d63 <unknown>\n#14 0x5de3b8a87c35 <unknown>\n#15 0x5de3b8ad8138 <unknown>\n#16 0x5de3b8ad82c7 <unknown>\n#17 0x5de3b8ae6093 <unknown>\n#18 0x789a07894ac3 <unknown>\n"
     ]
    }
   ],
   "source": [
    "count=0\n",
    "while count<800:\n",
    "    count=count+1\n",
    "    print(count)\n",
    "#     analytics_element = WebDriverWait(driver, 2).until(EC.presence_of_element_located((By.XPATH, \n",
    "#                                         \"/html/body/div[1]/div/div/div[2]/main/div/div/div/div[1]/div/div[3]/section/div/div/div[{}]/div/div/article/div/div/div[2]/div[2]/div[1]/div/div[1]/div/div/div[2]/div/div[3]/a\".format(1)\n",
    "#                                         )))\n",
    "\n",
    "#     # Click the button\n",
    "#     href = analytics_element.get_attribute('href')\n",
    "#     print(href)\n",
    "#     ID = href.split('/')[-1]\n",
    "#     if ID == '1506259564034809861':\n",
    "#         break\n",
    "    \n",
    "    try:\n",
    "        morebutton = WebDriverWait(driver, 2).until(EC.presence_of_element_located((By.XPATH, \n",
    "                                    '//*[@id=\"react-root\"]/div/div/div[2]/main/div/div/div/div/div/div[3]/div/div/section/div/div/div[3]/div/div/article/div/div/div[2]/div[2]/div[1]/div/div[2]/div/div/div/div/div'\n",
    "                                    )))\n",
    "    except:\n",
    "        morebutton = WebDriverWait(driver, 2).until(EC.presence_of_element_located((By.XPATH, \n",
    "                                    '//*[@id=\"react-root\"]/div/div/div[2]/main/div/div/div/div[1]/div/div[3]/div/div/section/div/div/div[4]/div/div/article/div/div/div[2]/div[2]/div[1]/div/div[2]/div/div/div/div/div'\n",
    "                                    )))\n",
    "    morebutton.click()\n",
    "    \n",
    "    time.sleep(2)\n",
    "    \n",
    "    delete = WebDriverWait(driver, 2).until(EC.presence_of_element_located((By.XPATH, \n",
    "                                    '//*[@id=\"layers\"]/div[2]/div/div/div/div[2]/div/div[3]/div/div/div/div[1]'\n",
    "                                    )))\n",
    "#     if delete.text!='Delete':\n",
    "#         driver.refresh()\n",
    "#         time.sleep(3)\n",
    "#         delete = WebDriverWait(driver, 2).until(EC.presence_of_element_located((By.XPATH, \n",
    "#                                     '//*[@id=\"id__prsen47t6cf\"]/div[2]/div/div'\n",
    "#                                     )))\n",
    "#         delete = WebDriverWait(driver, 2).until(EC.presence_of_element_located((By.XPATH, \n",
    "#                                     '//*[@id=\"layers\"]/div[2]/div/div/div/div[2]/div/div[3]/div/div/div/div'\n",
    "#                                     )))\n",
    "    delete.click()\n",
    "    \n",
    "    time.sleep(2)\n",
    "    \n",
    "    delete2 = WebDriverWait(driver, 2).until(EC.presence_of_element_located((By.XPATH, \n",
    "                                    '//*[@id=\"layers\"]/div[2]/div/div/div/div/div/div[2]/div[2]/div[2]/div[1]'\n",
    "                                    )))\n",
    "    \n",
    "    delete2.click()\n",
    "    \n",
    "    time.sleep(2)\n",
    "    driver.refresh()\n",
    "    time.sleep(5)"
   ]
  },
  {
   "cell_type": "code",
   "execution_count": 14,
   "id": "c0d119f4",
   "metadata": {},
   "outputs": [
    {
     "name": "stdout",
     "output_type": "stream",
     "text": [
      "1\n",
      "2\n",
      "3\n",
      "4\n",
      "5\n",
      "6\n",
      "7\n",
      "8\n",
      "9\n",
      "1\n",
      "2\n",
      "3\n",
      "4\n",
      "5\n",
      "6\n",
      "7\n",
      "8\n",
      "9\n",
      "1\n",
      "2\n",
      "3\n",
      "4\n",
      "5\n",
      "6\n",
      "7\n",
      "8\n",
      "9\n",
      "1\n",
      "2\n",
      "3\n",
      "4\n",
      "5\n",
      "6\n",
      "7\n",
      "8\n",
      "9\n",
      "1\n",
      "2\n",
      "3\n",
      "4\n",
      "5\n",
      "6\n",
      "7\n",
      "8\n",
      "9\n",
      "1\n",
      "2\n",
      "3\n",
      "4\n",
      "5\n",
      "6\n",
      "7\n",
      "8\n",
      "9\n",
      "1\n",
      "2\n",
      "3\n",
      "4\n",
      "5\n",
      "6\n",
      "7\n",
      "8\n",
      "9\n",
      "1\n",
      "2\n",
      "3\n",
      "4\n",
      "5\n",
      "6\n",
      "7\n",
      "8\n",
      "9\n",
      "1\n",
      "2\n",
      "3\n",
      "4\n",
      "5\n",
      "6\n",
      "7\n",
      "8\n",
      "9\n",
      "1\n",
      "2\n",
      "3\n",
      "4\n",
      "5\n",
      "6\n",
      "7\n",
      "8\n",
      "9\n"
     ]
    }
   ],
   "source": [
    "count=0\n",
    "while count<10:\n",
    "    count=count+1\n",
    "    for i in range (1,10):\n",
    "        try:\n",
    "            analytics_element = WebDriverWait(driver, 2).until(EC.presence_of_element_located((By.XPATH, \n",
    "                                        \"/html/body/div[1]/div/div/div[2]/main/div/div/div/div[1]/div/div[3]/section/div/div/div[{}]/div/div/article/div/div/div[2]/div[2]/div[1]/div/div[1]/div/div/div[2]/div/div[3]/a\".format(i)\n",
    "                                        )))\n",
    "\n",
    "            # Click the button\n",
    "            href = analytics_element.get_attribute('href')\n",
    "            print(href)\n",
    "            ID = href.split('/')[-1]\n",
    "            if ID == '1506259564034809861':\n",
    "                pass\n",
    "            tweet_url = 'https://api.twitter.com/2/tweets'\n",
    "            tweet_url = tweet_url+\"/{}\".format(ID)\n",
    "            response = requests.delete(tweet_url,\n",
    "                                   auth=oauth, \n",
    "                                   )\n",
    "            print(response.text)\n",
    "        except:\n",
    "            print(i)\n",
    "            continue    "
   ]
  },
  {
   "cell_type": "code",
   "execution_count": null,
   "id": "0f711c4a",
   "metadata": {},
   "outputs": [],
   "source": [
    "# Twitter API endpoints\n",
    "tweet_url = 'https://api.twitter.com/2/tweets'\n",
    "tweet_url = tweet_url+\"/{}\".format(id)\n",
    "print(tweet_url)\n",
    "\n",
    "response = requests.delete(tweet_url,\n",
    "                           auth=oauth, \n",
    "                           )\n",
    "print(response)"
   ]
  },
  {
   "cell_type": "code",
   "execution_count": null,
   "id": "4b76bf0d",
   "metadata": {},
   "outputs": [],
   "source": [
    "#response = requests.get(\"https://api.twitter.com/2/users/me\", auth=oauth)\n",
    "#print(response.text)\n",
    "# Making the request\n",
    "id = '1754895653740937553'\n",
    "dont = '1506259564034809861'\n",
    "# Twitter API endpoints\n",
    "tweet_url = 'https://api.twitter.com/2/tweets'\n",
    "tweet_url = tweet_url+\"/{}\".format(id)\n",
    "print(tweet_url)\n",
    "\n",
    "response = requests.delete(tweet_url,\n",
    "                           auth=oauth, \n",
    "                           )\n",
    "print(response)"
   ]
  },
  {
   "cell_type": "code",
   "execution_count": 87,
   "id": "087c66c1",
   "metadata": {},
   "outputs": [],
   "source": [
    "morebutton = WebDriverWait(driver, 2).until(EC.presence_of_element_located((By.XPATH, \n",
    "                                '//*[@id=\"react-root\"]/div/div/div[2]/main/div/div/div/div/div/div[3]/div/div/section/div/div/div[4]/div/div/article/div/div/div[2]/div[2]/div[1]/div/div[2]/div/div/div/div/div'\n",
    "                                )))\n",
    "morebutton.click()"
   ]
  },
  {
   "cell_type": "code",
   "execution_count": 88,
   "id": "884c95dd",
   "metadata": {},
   "outputs": [],
   "source": [
    "delete = WebDriverWait(driver, 2).until(EC.presence_of_element_located((By.XPATH, \n",
    "                                '//*[@id=\"layers\"]/div[2]/div/div/div/div[2]/div/div[3]/div/div/div/div[1]'\n",
    "                                )))\n",
    "delete.click()"
   ]
  },
  {
   "cell_type": "code",
   "execution_count": 89,
   "id": "be14f080",
   "metadata": {},
   "outputs": [],
   "source": [
    "delete2 = WebDriverWait(driver, 2).until(EC.presence_of_element_located((By.XPATH, \n",
    "                                '//*[@id=\"layers\"]/div[2]/div/div/div/div/div/div[2]/div[2]/div[2]/div[1]'\n",
    "                                )))\n",
    "\n",
    "delete2.click()"
   ]
  },
  {
   "cell_type": "markdown",
   "id": "7d37550b",
   "metadata": {},
   "source": [
    "There are close parallels between love and democracy.\n",
    "\n",
    "You give the power to hurt you to the lover/ruler.\n",
    "\n",
    "And the moment power is abused, the lover/ruler loses the love and power."
   ]
  },
  {
   "cell_type": "code",
   "execution_count": null,
   "id": "b3bdd48b",
   "metadata": {},
   "outputs": [],
   "source": [
    "We’re being taught to make a living, not a life.\n",
    "\n",
    "\n",
    "“In essentials, Unity. In non-essentials, Liberty. In all things, love”\n"
   ]
  }
 ],
 "metadata": {
  "kernelspec": {
   "display_name": "Python 3 (ipykernel)",
   "language": "python",
   "name": "python3"
  },
  "language_info": {
   "codemirror_mode": {
    "name": "ipython",
    "version": 3
   },
   "file_extension": ".py",
   "mimetype": "text/x-python",
   "name": "python",
   "nbconvert_exporter": "python",
   "pygments_lexer": "ipython3",
   "version": "3.9.13"
  }
 },
 "nbformat": 4,
 "nbformat_minor": 5
}
